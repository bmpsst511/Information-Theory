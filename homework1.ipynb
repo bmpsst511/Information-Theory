{
 "nbformat": 4,
 "nbformat_minor": 2,
 "metadata": {
  "language_info": {
   "name": "python",
   "codemirror_mode": {
    "name": "ipython",
    "version": 3
   },
   "version": "3.7.4"
  },
  "orig_nbformat": 2,
  "file_extension": ".py",
  "mimetype": "text/x-python",
  "name": "python",
  "npconvert_exporter": "python",
  "pygments_lexer": "ipython3",
  "version": 3
 },
 "cells": [
  {
   "cell_type": "code",
   "execution_count": 194,
   "metadata": {},
   "outputs": [
    {
     "name": "stdout",
     "output_type": "stream",
     "text": "a: 4.733242788448476\nb: 5.0\nc: 2.4545346086611146\nd: 1.1462406251802892\n"
    }
   ],
   "source": [
    "import math\n",
    "\"\"\"SectionA\"\"\"\n",
    "sum = 0\n",
    "px = [ 1/256, 13/256, 6/256, 11/256, 1/256, 15/256, 7/256, 5/256, 4/256, 7/256, 1/256, 11/256, 14/256, 10/256, 13/256, 14/256, 5/256, 14/256, 5/256, 3/256, 12/256, 8/256, 9/256, 7/256, 16/256, 2/256, 15/256, 3/256, 8/256, 4/256, 3/256, 9/256]\n",
    "for i in range(len(px)):\n",
    "    #print(px[i])\n",
    "    a = -(px[i]*math.log(px[i], 2))\n",
    "    sum += a\n",
    "print(\"a:\",sum)\n",
    "\"\"\"SectionA\"\"\"\n",
    "\n",
    "\"\"\"SectionB\"\"\"\n",
    "sum = 0\n",
    "px = 1/32\n",
    "for i in range(1,33):\n",
    "    b = -(px*math.log(px,2))\n",
    " #print(b)\n",
    "    sum += b\n",
    "print(\"b:\",sum)\n",
    "\"\"\"SectionB\"\"\"\n",
    "\n",
    "\"\"\"SectionC\"\"\"\n",
    "sum = 0\n",
    "Px= 0\n",
    "Hyx= 0\n",
    "Hyx0= 0\n",
    "Hyx1= 0\n",
    "Hyx2= 0\n",
    "Hyx3= 0\n",
    "pygx0 =[3/19, 3/19, 2/19, 3/19, 4/19, 4/19] \n",
    "pygx1 =[4/18, 3/18, 4/18, 3/18, 3/18, 1/18]\n",
    "pygx2 =[1/15, 4/15, 1/15, 4/15, 2/15, 3/15]\n",
    "pygx3 =[4/15, 2/15, 4/15, 1/15, 1/15, 3/15]\n",
    "px = [1/4, 1/4, 1/4, 1/4]\n",
    "for i in range(len(pygx0)):\n",
    "    Hyx0 += -(pygx0[i]*math.log(pygx0[i],2))\n",
    "#print(Hyx0)\n",
    "for j in range(len(pygx1)):\n",
    "    Hyx1 += -(pygx1[j]*math.log(pygx1[j],2))\n",
    "#print(Hyx1)\n",
    "for k in range(len(pygx2)):\n",
    "    Hyx2 += -(pygx2[k]*math.log(pygx2[k],2))\n",
    "#print(Hyx2)\n",
    "for l in range(len(pygx3)):\n",
    "    Hyx3 += -(pygx3[l]*math.log(pygx3[l],2))\n",
    "#print(Hyx3)\n",
    "Hyx = 1/4*Hyx0+1/4*Hyx1+1/4*Hyx2+1/4*Hyx3\n",
    "print(\"c:\",Hyx)\n",
    "\"\"\"SectionC\"\"\"\n",
    "\n",
    "\"\"\"SectionD\"\"\"\n",
    "pygxd = 1/24\n",
    "d = 0\n",
    "Hyx = 0\n",
    "for i in range(1,7):\n",
    "    d += -(pygxd*math.log(pygxd,2))\n",
    "Hyx = 1/4*4*d\n",
    "print(\"d:\",Hyx)\n",
    "\"\"\"SectionD\"\"\""
   ]
  },
  {
   "cell_type": "code",
   "execution_count": 195,
   "metadata": {},
   "outputs": [],
   "source": [
    "\n"
   ]
  }
 ]
}